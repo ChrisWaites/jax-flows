{
 "cells": [
  {
   "cell_type": "markdown",
   "metadata": {},
   "source": [
    "Welcome! In this notebook we'll walk through a simple example of how to create a normalizing flow in JAX using `jax-flows`!"
   ]
  },
  {
   "cell_type": "code",
   "execution_count": 33,
   "metadata": {},
   "outputs": [],
   "source": [
    "import matplotlib.pyplot as plt\n",
    "from sklearn import datasets, preprocessing\n",
    "from IPython.display import clear_output\n",
    "import numpy as onp\n",
    "\n",
    "%matplotlib inline"
   ]
  },
  {
   "cell_type": "markdown",
   "metadata": {},
   "source": [
    "First, we'll load a dataset of 10,000 2-dimensional points into a matrix $X \\in \\mathbb{R}^{10000 \\times 2}$."
   ]
  },
  {
   "cell_type": "code",
   "execution_count": 34,
   "metadata": {},
   "outputs": [
    {
     "data": {
      "text/plain": [
       "<matplotlib.collections.QuadMesh at 0x1a358d9b90>"
      ]
     },
     "execution_count": 34,
     "metadata": {},
     "output_type": "execute_result"
    },
    {
     "data": {
      "image/png": "[encoded data removed]",
      "text/plain": [
       "<Figure size 432x288 with 1 Axes>"
      ]
     },
     "metadata": {
      "needs_background": "light"
     },
     "output_type": "display_data"
    }
   ],
   "source": [
    "n_samples = 10000\n",
    "plot_range = [(-2, 2), (-2, 2)]\n",
    "n_bins = 100\n",
    "\n",
    "scaler = preprocessing.StandardScaler()\n",
    "X, _ = datasets.make_moons(n_samples=n_samples, noise=.05)\n",
    "X = scaler.fit_transform(X)\n",
    "plt.hist2d(X[:, 0], X[:, 1], bins=n_bins, range=plot_range)[-1]"
   ]
  },
  {
   "cell_type": "code",
   "execution_count": 35,
   "metadata": {},
   "outputs": [],
   "source": [
    "import sys\n",
    "sys.path.append('..')\n",
    "\n",
    "import flows\n",
    "\n",
    "from jax import grad, jit, random\n",
    "from jax.experimental import stax, optimizers\n",
    "from jax.nn.initializers import orthogonal, zeros"
   ]
  },
  {
   "cell_type": "markdown",
   "metadata": {},
   "source": [
    "Next, we'll define some training parameters."
   ]
  },
  {
   "cell_type": "code",
   "execution_count": 36,
   "metadata": {},
   "outputs": [],
   "source": [
    "rng, flow_rng = random.split(random.PRNGKey(0))\n",
    "input_shape = X.shape[1:]\n",
    "num_epochs, batch_size = 500, 100"
   ]
  },
  {
   "cell_type": "markdown",
   "metadata": {},
   "source": [
    "Now it's time to construct the normalizing flow model. We'll opt for `RealNVP` composed of a sequence of 5 blocks.\n",
    "\n",
    "The core of this library is the concept of a _bijection_. A bijection is characterized by a triplet $(\\theta, f_\\theta, f^{-1}_\\theta)$, where $\\theta$ is a parameter vector, and for all $x \\in \\mathbb{R}^N$, it's the case that $x = f^{-1}_\\theta(f_\\theta(x))$. Given this characterization, bijections naturally follow a common interface, as described next. \n",
    "\n",
    "When you create a bijection, it returns an initialization function `init_fun` which, given a source of randomness `rng` and an `input_shape` tuple returns the aforementioned triplet `(params, direct_fun, inverse_fun)`.\n",
    "\n",
    "`params` is consistent with the rest of JAX, and is just a tree of numpy matrices containing all of the trainable parameters of the bijection. More importantly, the `direct_fun` and `inverse_fun` are the functions which perform direct and inverse bijections according to params. That is, given `params` and `inputs`, each will return `(outputs, logdet)`.\n",
    "\n",
    "It's worth noting that the composition of several bijections, retrievable by a call to `serial`, is simply a larger, meta-bijection. That is, it adheres to the exact same bijection interface described previously and is indistinguishable from any other bijection."
   ]
  },
  {
   "cell_type": "markdown",
   "metadata": {},
   "source": [
    "A _flow_ is such a bijection paired with a prior distribution. A prior distribution should allow one to query the density of a point and sample new points, i.e. it should return `log_pdf` and `sample` functions. Typically a normal distribution is used as the prior, and is used as the implicit default parameter when constructing a flow."
   ]
  },
  {
   "cell_type": "code",
   "execution_count": 37,
   "metadata": {},
   "outputs": [],
   "source": [
    "def get_affine_coupling_net(input_shape, hidden_dim=64, act=stax.Relu):\n",
    "    return stax.serial(\n",
    "        stax.Dense(hidden_dim, W_init=orthogonal(), b_init=zeros),\n",
    "        act,\n",
    "        stax.Dense(hidden_dim, W_init=orthogonal(), b_init=zeros),\n",
    "        act,\n",
    "        stax.Dense(input_shape[-1], W_init=orthogonal(), b_init=zeros),\n",
    "    )\n",
    "\n",
    "def get_affine_coupling_mask(input_shape):\n",
    "    mask = onp.zeros(input_shape)\n",
    "    mask[::2] = 1.0\n",
    "    return mask\n",
    "\n",
    "scale = get_affine_coupling_net(input_shape=X.shape[1:], act=stax.Relu)\n",
    "translate = get_affine_coupling_net(input_shape=X.shape[1:], act=stax.Tanh)\n",
    "mask = get_affine_coupling_mask(input_shape=X.shape[1:])\n",
    "\n",
    "init_fun = flows.Flow(\n",
    "    flows.Serial(\n",
    "        flows.AffineCoupling(scale, translate, mask),\n",
    "        flows.AffineCoupling(scale, translate, 1 - mask),\n",
    "        flows.AffineCoupling(scale, translate, mask),\n",
    "        flows.AffineCoupling(scale, translate, 1 - mask),\n",
    "        flows.AffineCoupling(scale, translate, mask),\n",
    "    ),\n",
    "    flows.Normal(),\n",
    ")\n",
    "\n",
    "params, log_pdf, sample = init_fun(flow_rng, input_shape)"
   ]
  },
  {
   "cell_type": "markdown",
   "metadata": {},
   "source": [
    "Now, given the model, we can start to optimize it. We can do this by creating a regular JAX Adam optimizer, supplying it the model parameters."
   ]
  },
  {
   "cell_type": "code",
   "execution_count": 38,
   "metadata": {},
   "outputs": [],
   "source": [
    "opt_init, opt_update, get_params = optimizers.adam(step_size=4e-4)\n",
    "opt_state = opt_init(params)"
   ]
  },
  {
   "cell_type": "code",
   "execution_count": 39,
   "metadata": {},
   "outputs": [],
   "source": [
    "from tqdm.notebook import trange\n",
    "import itertools\n",
    "import numpy.random as npr"
   ]
  },
  {
   "cell_type": "markdown",
   "metadata": {},
   "source": [
    "Now we'll define the loss we'd like to minimize, as well as the step function which will update our parameters given a batch and compile it."
   ]
  },
  {
   "cell_type": "code",
   "execution_count": 40,
   "metadata": {},
   "outputs": [],
   "source": [
    "def loss(params, inputs):\n",
    "    return -log_pdf(params, inputs).mean()\n",
    "\n",
    "@jit\n",
    "def step(i, opt_state, inputs):\n",
    "    params = get_params(opt_state)\n",
    "    gradients = grad(loss)(params, inputs)\n",
    "    return opt_update(i, gradients, opt_state)"
   ]
  },
  {
   "cell_type": "markdown",
   "metadata": {},
   "source": [
    "And now we train!"
   ]
  },
  {
   "cell_type": "code",
   "execution_count": 41,
   "metadata": {},
   "outputs": [
    {
     "data": {
      "image/png": "[encoded data removed]",
      "text/plain": [
       "<Figure size 432x288 with 1 Axes>"
      ]
     },
     "metadata": {
      "needs_background": "light"
     },
     "output_type": "display_data"
    }
   ],
   "source": [
    "itercount = itertools.count()\n",
    "\n",
    "for epoch in range(num_epochs):\n",
    "    clear_output(wait=True) # Clear plotting\n",
    "\n",
    "    npr.shuffle(X)\n",
    "    for batch_index in range(0, len(X), batch_size):\n",
    "        opt_state = step(next(itercount), opt_state, X[batch_index:batch_index+batch_size])\n",
    "     \n",
    "    params = get_params(opt_state)\n",
    "    rng, sample_rng = random.split(rng)\n",
    "    X_syn = sample(rng, params, X.shape[0])\n",
    "    \n",
    "    plt.hist2d(X_syn[:, 0], X_syn[:, 1], bins=n_bins, range=plot_range)\n",
    "    plt.show()\n",
    "\n",
    "params = get_params(opt_state)"
   ]
  },
  {
   "cell_type": "markdown",
   "metadata": {},
   "source": [
    "_Magic._"
   ]
  }
 ],
 "metadata": {
  "kernelspec": {
   "display_name": "Python 3",
   "language": "python",
   "name": "python3"
  },
  "language_info": {
   "codemirror_mode": {
    "name": "ipython",
    "version": 3
   },
   "file_extension": ".py",
   "mimetype": "text/x-python",
   "name": "python",
   "nbconvert_exporter": "python",
   "pygments_lexer": "ipython3",
   "version": "3.7.6"
  }
 },
 "nbformat": 4,
 "nbformat_minor": 4
}

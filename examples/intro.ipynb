{
 "cells": [
  {
   "cell_type": "markdown",
   "metadata": {},
   "source": [
    "Welcome! In this notebook we'll walk through a simple example of how to create a normalizing flow in JAX using `jax-flows`!"
   ]
  },
  {
   "cell_type": "code",
   "execution_count": 1,
   "metadata": {},
   "outputs": [],
   "source": [
    "import matplotlib.pyplot as plt\n",
    "from sklearn import datasets, preprocessing\n",
    "from IPython.display import clear_output\n",
    "import jax.numpy as np\n",
    "\n",
    "%matplotlib inline"
   ]
  },
  {
   "cell_type": "markdown",
   "metadata": {},
   "source": [
    "First, we'll load a dataset of 10,000 2-dimensional points into a matrix $X \\in \\mathbb{R}^{10000 \\times 2}$."
   ]
  },
  {
   "cell_type": "code",
   "execution_count": 2,
   "metadata": {},
   "outputs": [
    {
     "data": {
      "text/plain": [
       "<matplotlib.collections.QuadMesh at 0x112b53410>"
      ]
     },
     "execution_count": 2,
     "metadata": {},
     "output_type": "execute_result"
    },
    {
     "data": {
      "image/png": "[encoded data removed]",
      "text/plain": [
       "<Figure size 432x288 with 1 Axes>"
      ]
     },
     "metadata": {
      "needs_background": "light"
     },
     "output_type": "display_data"
    }
   ],
   "source": [
    "n_samples = 10000\n",
    "plot_range = [(-2, 2), (-2, 2)]\n",
    "n_bins = 100\n",
    "\n",
    "scaler = preprocessing.StandardScaler()\n",
    "X, _ = datasets.make_moons(n_samples=n_samples, noise=.05)\n",
    "X = scaler.fit_transform(X)\n",
    "plt.hist2d(X[:, 0], X[:, 1], bins=n_bins, range=plot_range)[-1]"
   ]
  },
  {
   "cell_type": "code",
   "execution_count": 3,
   "metadata": {},
   "outputs": [],
   "source": [
    "import sys\n",
    "sys.path.append('..')\n",
    "\n",
    "import flows\n",
    "\n",
    "from jax import grad, jit, random\n",
    "from jax.experimental import stax, optimizers"
   ]
  },
  {
   "cell_type": "markdown",
   "metadata": {},
   "source": [
    "Next, we'll define some training parameters."
   ]
  },
  {
   "cell_type": "code",
   "execution_count": 4,
   "metadata": {},
   "outputs": [
    {
     "name": "stderr",
     "output_type": "stream",
     "text": [
      "/Users/chriswaites/miniconda3/envs/exp/lib/python3.7/site-packages/jax/lib/xla_bridge.py:116: UserWarning: No GPU/TPU found, falling back to CPU.\n",
      "  warnings.warn('No GPU/TPU found, falling back to CPU.')\n"
     ]
    }
   ],
   "source": [
    "rng, flow_rng = random.split(random.PRNGKey(0))\n",
    "input_dim = X.shape[1]\n",
    "num_epochs, batch_size = 100, 100"
   ]
  },
  {
   "cell_type": "markdown",
   "metadata": {},
   "source": [
    "Now it's time to construct the normalizing flow model. We'll opt for `MAF` composed of a sequence of 5 blocks.\n",
    "\n",
    "The core of this library is the concept of a _bijection_. A bijection is characterized by a triplet $(\\theta, f_\\theta, f^{-1}_\\theta)$, where $\\theta$ is a parameter vector, and for all $x \\in \\mathbb{R}^N$, it's the case that $x = f^{-1}_\\theta(f_\\theta(x))$. Given this characterization, bijections naturally follow a common interface, as described next. \n",
    "\n",
    "When you create a bijection, it returns an initialization function `init_fun` which, given a source of randomness `rng` and an `input_dim` tuple returns the aforementioned triplet `(params, direct_fun, inverse_fun)`.\n",
    "\n",
    "`params` is consistent with the rest of JAX, and is just a tree of numpy matrices containing all of the trainable parameters of the bijection. More importantly, the `direct_fun` and `inverse_fun` are the functions which perform direct and inverse bijections according to params. That is, given `params` and `inputs`, each will return `(outputs, log_det_jacobian)`.\n",
    "\n",
    "It's worth noting that the composition of several bijections, retrievable by a call to `serial`, is simply a larger, meta-bijection. That is, it adheres to the exact same bijection interface described previously and is indistinguishable from any other bijection."
   ]
  },
  {
   "cell_type": "markdown",
   "metadata": {},
   "source": [
    "A _flow_ is such a bijection paired with a prior distribution. A prior distribution should allow one to query the density of a point and sample new points, i.e. it should return `log_pdf` and `sample` functions. Typically a normal distribution is used as the prior, and is used as the implicit default parameter when constructing a flow."
   ]
  },
  {
   "cell_type": "code",
   "execution_count": 5,
   "metadata": {},
   "outputs": [],
   "source": [
    "def get_masks(input_dim, hidden_dim=64, num_hidden=1):\n",
    "    masks = []\n",
    "    input_degrees = np.arange(input_dim)\n",
    "    degrees = [input_degrees]\n",
    "\n",
    "    for n_h in range(num_hidden + 1):\n",
    "        degrees += [np.arange(hidden_dim) % (input_dim - 1)]\n",
    "    degrees += [input_degrees % input_dim - 1]\n",
    "\n",
    "    for (d0, d1) in zip(degrees[:-1], degrees[1:]):\n",
    "        masks += [np.transpose(np.expand_dims(d1, -1) >= np.expand_dims(d0, 0)).astype(np.float32)]\n",
    "    return masks\n",
    "\n",
    "def masked_transform(rng, input_dim):\n",
    "    masks = get_masks(input_dim, hidden_dim=64, num_hidden=1)\n",
    "    act = stax.Relu\n",
    "    init_fun, apply_fun = stax.serial(\n",
    "        flows.MaskedDense(masks[0]),\n",
    "        act,\n",
    "        flows.MaskedDense(masks[1]),\n",
    "        act,\n",
    "        flows.MaskedDense(masks[2].tile(2)),\n",
    "    )\n",
    "    _, params = init_fun(rng, (input_dim,))\n",
    "    return params, apply_fun\n",
    "\n",
    "init_fun = flows.Flow(\n",
    "    flows.Serial(*(flows.MADE(masked_transform), flows.Reverse()) * 5),\n",
    "    flows.Normal(),\n",
    ")\n",
    "\n",
    "params, log_pdf, sample = init_fun(flow_rng, input_dim)"
   ]
  },
  {
   "cell_type": "markdown",
   "metadata": {},
   "source": [
    "Now, given the model, we can start to optimize it. We can do this by creating a regular JAX Adam optimizer, supplying it the model parameters."
   ]
  },
  {
   "cell_type": "code",
   "execution_count": 6,
   "metadata": {},
   "outputs": [],
   "source": [
    "opt_init, opt_update, get_params = optimizers.adam(step_size=1e-4)\n",
    "opt_state = opt_init(params)"
   ]
  },
  {
   "cell_type": "code",
   "execution_count": 7,
   "metadata": {},
   "outputs": [],
   "source": [
    "from tqdm.notebook import trange\n",
    "import itertools\n",
    "import numpy.random as npr"
   ]
  },
  {
   "cell_type": "markdown",
   "metadata": {},
   "source": [
    "Now we'll define the loss we'd like to minimize, as well as the step function which will update our parameters given a batch and compile it."
   ]
  },
  {
   "cell_type": "code",
   "execution_count": 8,
   "metadata": {},
   "outputs": [],
   "source": [
    "def loss(params, inputs):\n",
    "    return -log_pdf(params, inputs).mean()\n",
    "\n",
    "@jit\n",
    "def step(i, opt_state, inputs):\n",
    "    params = get_params(opt_state)\n",
    "    gradients = grad(loss)(params, inputs)\n",
    "    return opt_update(i, gradients, opt_state)"
   ]
  },
  {
   "cell_type": "markdown",
   "metadata": {},
   "source": [
    "And now we train!"
   ]
  },
  {
   "cell_type": "code",
   "execution_count": 9,
   "metadata": {},
   "outputs": [
    {
     "data": {
      "image/png": "[encoded data removed]",
      "text/plain": [
       "<Figure size 432x288 with 1 Axes>"
      ]
     },
     "metadata": {
      "needs_background": "light"
     },
     "output_type": "display_data"
    }
   ],
   "source": [
    "itercount = itertools.count()\n",
    "\n",
    "for epoch in range(num_epochs):\n",
    "    clear_output(wait=True) # Clear plotting\n",
    "\n",
    "    permute_rng, rng = random.split(rng)\n",
    "    X = random.permutation(permute_rng, X)\n",
    "    for batch_index in range(0, len(X), batch_size):\n",
    "        opt_state = step(next(itercount), opt_state, X[batch_index:batch_index+batch_size])\n",
    "     \n",
    "    params = get_params(opt_state)\n",
    "    s, sample_rng = random.split(rng)\n",
    "    X_syn = sample(rng, params, X.shape[0])\n",
    "    \n",
    "    plt.hist2d(X_syn[:, 0], X_syn[:, 1], bins=n_bins, range=plot_range)\n",
    "    plt.show()\n",
    "\n",
    "params = get_params(opt_state)"
   ]
  },
  {
   "cell_type": "markdown",
   "metadata": {},
   "source": [
    "_Magic._"
   ]
  }
 ],
 "metadata": {
  "kernelspec": {
   "display_name": "Python 3",
   "language": "python",
   "name": "python3"
  },
  "language_info": {
   "codemirror_mode": {
    "name": "ipython",
    "version": 3
   },
   "file_extension": ".py",
   "mimetype": "text/x-python",
   "name": "python",
   "nbconvert_exporter": "python",
   "pygments_lexer": "ipython3",
   "version": "3.7.6"
  }
 },
 "nbformat": 4,
 "nbformat_minor": 4
}
